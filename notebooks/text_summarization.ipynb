{
  "nbformat": 4,
  "nbformat_minor": 0,
  "metadata": {
    "colab": {
      "name": "Copy of Keras-RNN-Bidirectional-LSTM-text-summarization.ipynb",
      "provenance": [],
      "collapsed_sections": []
    },
    "kernelspec": {
      "name": "python3",
      "display_name": "Python 3"
    },
    "accelerator": "GPU"
  },
  "cells": [
    {
      "cell_type": "code",
      "metadata": {
        "id": "dS9JPp982PeG"
      },
      "source": [
        "import pandas as pd\r\n",
        "import numpy as np\r\n",
        "import matplotlib.pyplot as plt\r\n",
        "%matplotlib inline\r\n",
        "import re           \r\n",
        "import os\r\n",
        "from bs4 import BeautifulSoup"
      ],
      "execution_count": null,
      "outputs": []
    },
    {
      "cell_type": "code",
      "metadata": {
        "id": "mvPvnaXc29Fq"
      },
      "source": [
        "from keras.preprocessing.text import Tokenizer \r\n",
        "from keras.preprocessing.sequence import pad_sequences\r\n",
        "import nltk\r\n",
        "from nltk.corpus import stopwords   \r\n",
        "from tensorflow.keras.layers import Input, LSTM, Embedding, Dense,GRU, Concatenate, TimeDistributed, Bidirectional,Dropout\r\n",
        "from tensorflow.keras.models import Model,load_model\r\n",
        "from tensorflow.keras.callbacks import EarlyStopping"
      ],
      "execution_count": null,
      "outputs": []
    },
    {
      "cell_type": "code",
      "metadata": {
        "colab": {
          "base_uri": "https://localhost:8080/",
          "height": 35
        },
        "id": "YohZgt3NBlSx",
        "outputId": "28d3b7a3-dbc8-4512-b871-d7a3b6a150ab"
      },
      "source": [
        "import tensorflow as tf\r\n",
        "tf.__version__"
      ],
      "execution_count": null,
      "outputs": [
        {
          "output_type": "execute_result",
          "data": {
            "application/vnd.google.colaboratory.intrinsic+json": {
              "type": "string"
            },
            "text/plain": [
              "'2.4.1'"
            ]
          },
          "metadata": {
            "tags": []
          },
          "execution_count": 13
        }
      ]
    },
    {
      "cell_type": "code",
      "metadata": {
        "id": "2lvoYEqbpN9C"
      },
      "source": [
        "import warnings\r\n",
        "warnings.filterwarnings('ignore')"
      ],
      "execution_count": null,
      "outputs": []
    },
    {
      "cell_type": "code",
      "metadata": {
        "colab": {
          "base_uri": "https://localhost:8080/",
          "height": 204
        },
        "id": "0z772lEc290R",
        "outputId": "afbba47a-bd53-40a8-9ba3-b16481b73e2f"
      },
      "source": [
        "data=pd.read_csv(\"/content/sample_data/Reviews.csv\",quoting=3, error_bad_lines=False,warn_bad_lines=False)\r\n",
        "data[['Text','Summary']].sample(5)"
      ],
      "execution_count": null,
      "outputs": [
        {
          "output_type": "execute_result",
          "data": {
            "text/html": [
              "<div>\n",
              "<style scoped>\n",
              "    .dataframe tbody tr th:only-of-type {\n",
              "        vertical-align: middle;\n",
              "    }\n",
              "\n",
              "    .dataframe tbody tr th {\n",
              "        vertical-align: top;\n",
              "    }\n",
              "\n",
              "    .dataframe thead th {\n",
              "        text-align: right;\n",
              "    }\n",
              "</style>\n",
              "<table border=\"1\" class=\"dataframe\">\n",
              "  <thead>\n",
              "    <tr style=\"text-align: right;\">\n",
              "      <th></th>\n",
              "      <th>Text</th>\n",
              "      <th>Summary</th>\n",
              "    </tr>\n",
              "  </thead>\n",
              "  <tbody>\n",
              "    <tr>\n",
              "      <th>254515</th>\n",
              "      <td>\"Just wanted to give everyone a heads up that ...</td>\n",
              "      <td>Love the coffee but 50 in a box.</td>\n",
              "    </tr>\n",
              "    <tr>\n",
              "      <th>94160</th>\n",
              "      <td>\"This is a great deal for 6 packages of salami...</td>\n",
              "      <td>Great Salami for the price</td>\n",
              "    </tr>\n",
              "    <tr>\n",
              "      <th>38355</th>\n",
              "      <td>to my knowledge the only producer of tinned br...</td>\n",
              "      <td>BETTER THAN YOUR MOTHER'S</td>\n",
              "    </tr>\n",
              "    <tr>\n",
              "      <th>325858</th>\n",
              "      <td>\"The only reason I did not give this product a...</td>\n",
              "      <td>Yummy</td>\n",
              "    </tr>\n",
              "    <tr>\n",
              "      <th>118334</th>\n",
              "      <td>I love almost all of the stevia flavors. They ...</td>\n",
              "      <td>Love Stevia!</td>\n",
              "    </tr>\n",
              "  </tbody>\n",
              "</table>\n",
              "</div>"
            ],
            "text/plain": [
              "                                                     Text                           Summary\n",
              "254515  \"Just wanted to give everyone a heads up that ...  Love the coffee but 50 in a box.\n",
              "94160   \"This is a great deal for 6 packages of salami...        Great Salami for the price\n",
              "38355   to my knowledge the only producer of tinned br...         BETTER THAN YOUR MOTHER'S\n",
              "325858  \"The only reason I did not give this product a...                             Yummy\n",
              "118334  I love almost all of the stevia flavors. They ...                      Love Stevia!"
            ]
          },
          "metadata": {
            "tags": []
          },
          "execution_count": 15
        }
      ]
    },
    {
      "cell_type": "code",
      "metadata": {
        "id": "SQlFUgSt4K0a",
        "colab": {
          "base_uri": "https://localhost:8080/"
        },
        "outputId": "41320854-6ce2-4df6-98a2-db747ffd2885"
      },
      "source": [
        "len(data)"
      ],
      "execution_count": null,
      "outputs": [
        {
          "output_type": "execute_result",
          "data": {
            "text/plain": [
              "363627"
            ]
          },
          "metadata": {
            "tags": []
          },
          "execution_count": 16
        }
      ]
    },
    {
      "cell_type": "code",
      "metadata": {
        "id": "wAibESsE4NpH"
      },
      "source": [
        "data.drop_duplicates(subset=['Text'],inplace=True)  \r\n",
        "data.dropna(axis=0,inplace=True)"
      ],
      "execution_count": null,
      "outputs": []
    },
    {
      "cell_type": "code",
      "metadata": {
        "id": "BaEAwrGQ4Plf",
        "colab": {
          "base_uri": "https://localhost:8080/"
        },
        "outputId": "e86c0e3e-e0ff-433b-8d46-319530cd511d"
      },
      "source": [
        "len(data)"
      ],
      "execution_count": null,
      "outputs": [
        {
          "output_type": "execute_result",
          "data": {
            "text/plain": [
              "253176"
            ]
          },
          "metadata": {
            "tags": []
          },
          "execution_count": 18
        }
      ]
    },
    {
      "cell_type": "code",
      "metadata": {
        "id": "Rk-5OECw4RFf"
      },
      "source": [
        "contraction_mapping = {\"ain't\": \"is not\", \"aren't\": \"are not\",\"can't\": \"cannot\", \"'cause\": \"because\", \"could've\": \"could have\", \"couldn't\": \"could not\",\r\n",
        "\r\n",
        "                           \"didn't\": \"did not\", \"doesn't\": \"does not\", \"don't\": \"do not\", \"hadn't\": \"had not\", \"hasn't\": \"has not\", \"haven't\": \"have not\",\r\n",
        "\r\n",
        "                           \"he'd\": \"he would\",\"he'll\": \"he will\", \"he's\": \"he is\", \"how'd\": \"how did\", \"how'd'y\": \"how do you\", \"how'll\": \"how will\", \"how's\": \"how is\",\r\n",
        "\r\n",
        "                           \"I'd\": \"I would\", \"I'd've\": \"I would have\", \"I'll\": \"I will\", \"I'll've\": \"I will have\",\"I'm\": \"I am\", \"I've\": \"I have\", \"i'd\": \"i would\",\r\n",
        "\r\n",
        "                           \"i'd've\": \"i would have\", \"i'll\": \"i will\",  \"i'll've\": \"i will have\",\"i'm\": \"i am\", \"i've\": \"i have\", \"isn't\": \"is not\", \"it'd\": \"it would\",\r\n",
        "\r\n",
        "                           \"it'd've\": \"it would have\", \"it'll\": \"it will\", \"it'll've\": \"it will have\",\"it's\": \"it is\", \"let's\": \"let us\", \"ma'am\": \"madam\",\r\n",
        "\r\n",
        "                           \"mayn't\": \"may not\", \"might've\": \"might have\",\"mightn't\": \"might not\",\"mightn't've\": \"might not have\", \"must've\": \"must have\",\r\n",
        "\r\n",
        "                           \"mustn't\": \"must not\", \"mustn't've\": \"must not have\", \"needn't\": \"need not\", \"needn't've\": \"need not have\",\"o'clock\": \"of the clock\",\r\n",
        "\r\n",
        "                           \"oughtn't\": \"ought not\", \"oughtn't've\": \"ought not have\", \"shan't\": \"shall not\", \"sha'n't\": \"shall not\", \"shan't've\": \"shall not have\",\r\n",
        "\r\n",
        "                           \"she'd\": \"she would\", \"she'd've\": \"she would have\", \"she'll\": \"she will\", \"she'll've\": \"she will have\", \"she's\": \"she is\",\r\n",
        "\r\n",
        "                           \"should've\": \"should have\", \"shouldn't\": \"should not\", \"shouldn't've\": \"should not have\", \"so've\": \"so have\",\"so's\": \"so as\",\r\n",
        "\r\n",
        "                           \"this's\": \"this is\",\"that'd\": \"that would\", \"that'd've\": \"that would have\", \"that's\": \"that is\", \"there'd\": \"there would\",\r\n",
        "\r\n",
        "                           \"there'd've\": \"there would have\", \"there's\": \"there is\", \"here's\": \"here is\",\"they'd\": \"they would\", \"they'd've\": \"they would have\",\r\n",
        "\r\n",
        "                           \"they'll\": \"they will\", \"they'll've\": \"they will have\", \"they're\": \"they are\", \"they've\": \"they have\", \"to've\": \"to have\",\r\n",
        "\r\n",
        "                           \"wasn't\": \"was not\", \"we'd\": \"we would\", \"we'd've\": \"we would have\", \"we'll\": \"we will\", \"we'll've\": \"we will have\", \"we're\": \"we are\",\r\n",
        "\r\n",
        "                           \"we've\": \"we have\", \"weren't\": \"were not\", \"what'll\": \"what will\", \"what'll've\": \"what will have\", \"what're\": \"what are\",\r\n",
        "\r\n",
        "                           \"what's\": \"what is\", \"what've\": \"what have\", \"when's\": \"when is\", \"when've\": \"when have\", \"where'd\": \"where did\", \"where's\": \"where is\",\r\n",
        "\r\n",
        "                           \"where've\": \"where have\", \"who'll\": \"who will\", \"who'll've\": \"who will have\", \"who's\": \"who is\", \"who've\": \"who have\",\r\n",
        "\r\n",
        "                           \"why's\": \"why is\", \"why've\": \"why have\", \"will've\": \"will have\", \"won't\": \"will not\", \"won't've\": \"will not have\",\r\n",
        "\r\n",
        "                           \"would've\": \"would have\", \"wouldn't\": \"would not\", \"wouldn't've\": \"would not have\", \"y'all\": \"you all\",\r\n",
        "\r\n",
        "                           \"y'all'd\": \"you all would\",\"y'all'd've\": \"you all would have\",\"y'all're\": \"you all are\",\"y'all've\": \"you all have\",\r\n",
        "\r\n",
        "                           \"you'd\": \"you would\", \"you'd've\": \"you would have\", \"you'll\": \"you will\", \"you'll've\": \"you will have\",\r\n",
        "\r\n",
        "                           \"you're\": \"you are\", \"you've\": \"you have\"}"
      ],
      "execution_count": null,
      "outputs": []
    },
    {
      "cell_type": "code",
      "metadata": {
        "id": "Q2lgrLCP4T8P",
        "colab": {
          "base_uri": "https://localhost:8080/"
        },
        "outputId": "5b05d262-c67b-4b57-beca-453b249232f2"
      },
      "source": [
        "data['Text'][:5]"
      ],
      "execution_count": null,
      "outputs": [
        {
          "output_type": "execute_result",
          "data": {
            "text/plain": [
              "0    I have bought several of the Vitality canned d...\n",
              "1    \"Product arrived labeled as Jumbo Salted Peanu...\n",
              "2    If you are looking for the secret ingredient i...\n",
              "3    Right now I'm mostly just sprouting this so my...\n",
              "4    This is a very healthy dog food. Good for thei...\n",
              "Name: Text, dtype: object"
            ]
          },
          "metadata": {
            "tags": []
          },
          "execution_count": 20
        }
      ]
    },
    {
      "cell_type": "code",
      "metadata": {
        "id": "OOy_AxI74WCn",
        "colab": {
          "base_uri": "https://localhost:8080/"
        },
        "outputId": "c24da9df-58a7-482e-c9c5-9e5fd5ca844f"
      },
      "source": [
        "nltk.download('stopwords')\r\n",
        "stop_words = set(stopwords.words('english')) \r\n",
        "def text_cleaner(text):\r\n",
        "    newString = text.lower()\r\n",
        "    newString = BeautifulSoup(newString, \"lxml\").text\r\n",
        "    newString = re.sub(r'\\([^)]*\\)', '', newString)\r\n",
        "    newString = re.sub('\"','', newString)\r\n",
        "    newString = ' '.join([contraction_mapping[t] if t in contraction_mapping else t for t in newString.split(\" \")])    \r\n",
        "    newString = re.sub(r\"'s\\b\",\"\",newString)\r\n",
        "    newString = re.sub(\"[^a-zA-Z]\", \" \", newString) \r\n",
        "    tokens = [w for w in newString.split() if not w in stop_words]\r\n",
        "    long_words=[]\r\n",
        "    for i in tokens:\r\n",
        "        if len(i)>=3:                 \r\n",
        "            long_words.append(i)   \r\n",
        "    return (\" \".join(long_words)).strip()\r\n",
        "\r\n",
        "cleaned_text = []\r\n",
        "for t in data['Text']:\r\n",
        "    cleaned_text.append(text_cleaner(t))"
      ],
      "execution_count": null,
      "outputs": [
        {
          "output_type": "stream",
          "text": [
            "[nltk_data] Downloading package stopwords to /root/nltk_data...\n",
            "[nltk_data]   Unzipping corpora/stopwords.zip.\n"
          ],
          "name": "stdout"
        }
      ]
    },
    {
      "cell_type": "code",
      "metadata": {
        "id": "CFmAuEMF4YIv",
        "colab": {
          "base_uri": "https://localhost:8080/"
        },
        "outputId": "3d7d50bf-8a00-403e-82df-21bbcb7027af"
      },
      "source": [
        "cleaned_text[:5]"
      ],
      "execution_count": null,
      "outputs": [
        {
          "output_type": "execute_result",
          "data": {
            "text/plain": [
              "['bought several vitality canned dog food products found good quality product looks like stew processed meat smells better labrador finicky appreciates product better',\n",
              " 'product arrived labeled jumbo salted peanuts peanuts actually small sized unsalted sure error vendor intended represent product jumbo',\n",
              " 'looking secret ingredient robitussin believe found got addition root beer extract ordered made cherry soda flavor medicinal',\n",
              " 'right mostly sprouting cats eat grass love rotate around wheatgrass rye',\n",
              " 'healthy dog food good digestion also good small puppies dog eats required amount every feeding']"
            ]
          },
          "metadata": {
            "tags": []
          },
          "execution_count": 22
        }
      ]
    },
    {
      "cell_type": "code",
      "metadata": {
        "id": "s0h2rkgY4baX"
      },
      "source": [
        "def summary_cleaner(text):\r\n",
        "    newString = re.sub('\"','', text)\r\n",
        "    newString = ' '.join([contraction_mapping[t] if t in contraction_mapping else t for t in newString.split(\" \")])    \r\n",
        "    newString = re.sub(r\"'s\\b\",\"\",newString)\r\n",
        "    newString = re.sub(\"[^a-zA-Z]\", \" \", newString)\r\n",
        "    newString = newString.lower()\r\n",
        "    tokens=newString.split()\r\n",
        "    newString=''\r\n",
        "    for i in tokens:\r\n",
        "        if len(i)>1:                                 \r\n",
        "            newString=newString+i+' '  \r\n",
        "    return newString\r\n",
        "\r\n",
        "#Call the above function\r\n",
        "cleaned_summary = []\r\n",
        "for t in data['Summary']:\r\n",
        "    cleaned_summary.append(summary_cleaner(t))\r\n",
        "\r\n",
        "data['cleaned_text']=cleaned_text\r\n",
        "data['cleaned_summary']=cleaned_summary\r\n",
        "data['cleaned_summary'].replace('', np.nan, inplace=True)\r\n",
        "data.dropna(axis=0,inplace=True)"
      ],
      "execution_count": null,
      "outputs": []
    },
    {
      "cell_type": "code",
      "metadata": {
        "id": "8MkqAq6q4eCX"
      },
      "source": [
        "data['cleaned_summary'] = data['cleaned_summary'].apply(lambda x : '_START_ '+ x + ' _END_')"
      ],
      "execution_count": null,
      "outputs": []
    },
    {
      "cell_type": "code",
      "metadata": {
        "id": "VBUE3BKn4gM4",
        "colab": {
          "base_uri": "https://localhost:8080/"
        },
        "outputId": "c7c5f74f-5949-4a27-da1b-0cee68d959ff"
      },
      "source": [
        "data['cleaned_text'][:5]"
      ],
      "execution_count": null,
      "outputs": [
        {
          "output_type": "execute_result",
          "data": {
            "text/plain": [
              "0    bought several vitality canned dog food produc...\n",
              "1    product arrived labeled jumbo salted peanuts p...\n",
              "2    looking secret ingredient robitussin believe f...\n",
              "3    right mostly sprouting cats eat grass love rot...\n",
              "4    healthy dog food good digestion also good smal...\n",
              "Name: cleaned_text, dtype: object"
            ]
          },
          "metadata": {
            "tags": []
          },
          "execution_count": 25
        }
      ]
    },
    {
      "cell_type": "code",
      "metadata": {
        "id": "uKV-Hfxs4ihH",
        "colab": {
          "base_uri": "https://localhost:8080/"
        },
        "outputId": "d0effc61-7112-4dcf-9c2c-c3ae4a673d49"
      },
      "source": [
        "data['cleaned_summary'][:5]"
      ],
      "execution_count": null,
      "outputs": [
        {
          "output_type": "execute_result",
          "data": {
            "text/plain": [
              "0    _START_ good quality dog food  _END_\n",
              "1        _START_ not as advertised  _END_\n",
              "2           _START_ cough medicine  _END_\n",
              "3               _START_ yay barley  _END_\n",
              "4         _START_ healthy dog food  _END_\n",
              "Name: cleaned_summary, dtype: object"
            ]
          },
          "metadata": {
            "tags": []
          },
          "execution_count": 26
        }
      ]
    },
    {
      "cell_type": "code",
      "metadata": {
        "id": "T5eudMXE4kYP",
        "colab": {
          "base_uri": "https://localhost:8080/"
        },
        "outputId": "990ce963-7b22-4e1a-90ae-6a97fc45db81"
      },
      "source": [
        "for i in range(5):\r\n",
        "    print(\"Review:\",data['cleaned_text'][i])\r\n",
        "    print(\"Summary:\",data['cleaned_summary'][i])\r\n",
        "    print(\"\\n\")"
      ],
      "execution_count": null,
      "outputs": [
        {
          "output_type": "stream",
          "text": [
            "Review: bought several vitality canned dog food products found good quality product looks like stew processed meat smells better labrador finicky appreciates product better\n",
            "Summary: _START_ good quality dog food  _END_\n",
            "\n",
            "\n",
            "Review: product arrived labeled jumbo salted peanuts peanuts actually small sized unsalted sure error vendor intended represent product jumbo\n",
            "Summary: _START_ not as advertised  _END_\n",
            "\n",
            "\n",
            "Review: looking secret ingredient robitussin believe found got addition root beer extract ordered made cherry soda flavor medicinal\n",
            "Summary: _START_ cough medicine  _END_\n",
            "\n",
            "\n",
            "Review: right mostly sprouting cats eat grass love rotate around wheatgrass rye\n",
            "Summary: _START_ yay barley  _END_\n",
            "\n",
            "\n",
            "Review: healthy dog food good digestion also good small puppies dog eats required amount every feeding\n",
            "Summary: _START_ healthy dog food  _END_\n",
            "\n",
            "\n"
          ],
          "name": "stdout"
        }
      ]
    },
    {
      "cell_type": "code",
      "metadata": {
        "id": "8BjjhR9-4m7_",
        "colab": {
          "base_uri": "https://localhost:8080/",
          "height": 281
        },
        "outputId": "3c650ffe-97c8-4881-88bf-48533d410058"
      },
      "source": [
        "import matplotlib.pyplot as plt\r\n",
        "text_word_count = []\r\n",
        "summary_word_count = []\r\n",
        "\r\n",
        "for i in data['cleaned_text']:\r\n",
        "      text_word_count.append(len(i.split()))\r\n",
        "\r\n",
        "for i in data['cleaned_summary']:\r\n",
        "      summary_word_count.append(len(i.split()))\r\n",
        "\r\n",
        "length_df = pd.DataFrame({'text':text_word_count, 'summary':summary_word_count})\r\n",
        "length_df.hist(bins = 30)\r\n",
        "plt.show()"
      ],
      "execution_count": null,
      "outputs": [
        {
          "output_type": "display_data",
          "data": {
            "image/png": "[encoded data removed]",
            "text/plain": [
              "<Figure size 432x288 with 2 Axes>"
            ]
          },
          "metadata": {
            "tags": [],
            "needs_background": "light"
          }
        }
      ]
    },
    {
      "cell_type": "code",
      "metadata": {
        "id": "E9bfI-0K40px"
      },
      "source": [
        "max_len_text=80 \r\n",
        "max_len_summary=10\r\n",
        "from sklearn.model_selection import train_test_split\r\n",
        "x_tr,x_val,y_tr,y_val=train_test_split(data['cleaned_text'],data['cleaned_summary'],test_size=0.1,random_state=0,shuffle=True)"
      ],
      "execution_count": null,
      "outputs": []
    },
    {
      "cell_type": "code",
      "metadata": {
        "colab": {
          "base_uri": "https://localhost:8080/"
        },
        "id": "bSrEXqUnMk3l",
        "outputId": "fc8a4f9f-25ae-4cfa-8591-81810e276732"
      },
      "source": [
        "x_tr"
      ],
      "execution_count": null,
      "outputs": [
        {
          "output_type": "execute_result",
          "data": {
            "text/plain": [
              "309991    tropic bee offers various honeys mixed bit dif...\n",
              "189743    dark chili powder much depth flavor regular ch...\n",
              "208947                                 excellent soup bases\n",
              "263889                first discovered tea local coffeeshop\n",
              "46176     great product use coconut oil moisturizer ever...\n",
              "                                ...                        \n",
              "242106    making wedding cake bride wanted passion fruit...\n",
              "148496    texas pete hot sauce south ubiquitous every ty...\n",
              "237674                              purchase candied citron\n",
              "53632     need decrease caffeine intake home drink soda ...\n",
              "275631    quality taste item consistant packet oacket ot...\n",
              "Name: cleaned_text, Length: 226596, dtype: object"
            ]
          },
          "metadata": {
            "tags": []
          },
          "execution_count": 30
        }
      ]
    },
    {
      "cell_type": "code",
      "metadata": {
        "id": "TeXbdX9n43oE"
      },
      "source": [
        "x_tokenizer = Tokenizer()\r\n",
        "x_tokenizer.fit_on_texts(list(x_tr))\r\n",
        "\r\n",
        "#convert text sequences into integer sequences\r\n",
        "x_tr    =   x_tokenizer.texts_to_sequences(x_tr) \r\n",
        "x_val   =   x_tokenizer.texts_to_sequences(x_val)\r\n",
        "\r\n",
        "#padding zero upto maximum length\r\n",
        "x_tr    =   pad_sequences(x_tr,  maxlen=max_len_text, padding='post') \r\n",
        "x_val   =   pad_sequences(x_val, maxlen=max_len_text, padding='post')\r\n",
        "\r\n",
        "x_voc_size   =  len(x_tokenizer.word_index) +1"
      ],
      "execution_count": null,
      "outputs": []
    },
    {
      "cell_type": "code",
      "metadata": {
        "id": "YNb7sG2845cS",
        "colab": {
          "base_uri": "https://localhost:8080/"
        },
        "outputId": "546cf1bc-b5c8-4f8c-c499-c057a595d7ce"
      },
      "source": [
        "x_tr[0]"
      ],
      "execution_count": null,
      "outputs": [
        {
          "output_type": "execute_result",
          "data": {
            "text/plain": [
              "array([14056,  3241,  1427,   931,  6471,   416,   102,    81,  2060,\n",
              "        1067,     8,  2189,  2154,   958,   135,   113,    59,  1054,\n",
              "          10,   928,   445,  1673,  1960,   117,   244,  5741,  1302,\n",
              "        2374,    67,   648,  7023,    76,  2154,   958,   422,   299,\n",
              "           3,     8,  6034,  5317,   210,  1167,     9, 17572,     0,\n",
              "           0,     0,     0,     0,     0,     0,     0,     0,     0,\n",
              "           0,     0,     0,     0,     0,     0,     0,     0,     0,\n",
              "           0,     0,     0,     0,     0,     0,     0,     0,     0,\n",
              "           0,     0,     0,     0,     0,     0,     0,     0],\n",
              "      dtype=int32)"
            ]
          },
          "metadata": {
            "tags": []
          },
          "execution_count": 32
        }
      ]
    },
    {
      "cell_type": "code",
      "metadata": {
        "colab": {
          "base_uri": "https://localhost:8080/"
        },
        "id": "fMv9cr09Jn8b",
        "outputId": "44f6df7a-add7-42a9-c768-47ce8b3ae8f1"
      },
      "source": [
        "x_tr.shape"
      ],
      "execution_count": null,
      "outputs": [
        {
          "output_type": "execute_result",
          "data": {
            "text/plain": [
              "(226596, 80)"
            ]
          },
          "metadata": {
            "tags": []
          },
          "execution_count": 33
        }
      ]
    },
    {
      "cell_type": "code",
      "metadata": {
        "id": "qbnrWQAy79PB"
      },
      "source": [
        "y_tokenizer = Tokenizer()\r\n",
        "y_tokenizer.fit_on_texts(list(y_tr))\r\n",
        "\r\n",
        "#convert summary sequences into integer sequences\r\n",
        "y_tr    =   y_tokenizer.texts_to_sequences(y_tr) \r\n",
        "y_val   =   y_tokenizer.texts_to_sequences(y_val) \r\n",
        "\r\n",
        "#padding zero upto maximum length\r\n",
        "y_tr    =   pad_sequences(y_tr, maxlen=max_len_summary, padding='post')\r\n",
        "y_val   =   pad_sequences(y_val, maxlen=max_len_summary, padding='post')\r\n",
        "\r\n",
        "y_voc_size  =   len(y_tokenizer.word_index) +1"
      ],
      "execution_count": null,
      "outputs": []
    },
    {
      "cell_type": "code",
      "metadata": {
        "colab": {
          "base_uri": "https://localhost:8080/"
        },
        "id": "yTSS_zYzXo1S",
        "outputId": "fc62e75b-302e-4f6f-d6eb-66e11b96d34e"
      },
      "source": [
        "print(x_voc_size)\r\n",
        "print(y_voc_size)"
      ],
      "execution_count": null,
      "outputs": [
        {
          "output_type": "stream",
          "text": [
            "53571\n",
            "23847\n"
          ],
          "name": "stdout"
        }
      ]
    },
    {
      "cell_type": "code",
      "metadata": {
        "id": "UUfvQGAA8AwX",
        "colab": {
          "base_uri": "https://localhost:8080/"
        },
        "outputId": "756ee629-140a-4094-85c5-1f1f396e7cb4"
      },
      "source": [
        "y_tr[0]"
      ],
      "execution_count": null,
      "outputs": [
        {
          "output_type": "execute_result",
          "data": {
            "text/plain": [
              "array([  1,  23, 170,   2,   0,   0,   0,   0,   0,   0], dtype=int32)"
            ]
          },
          "metadata": {
            "tags": []
          },
          "execution_count": 36
        }
      ]
    },
    {
      "cell_type": "code",
      "metadata": {
        "id": "1eDUf7lqKXHe",
        "colab": {
          "base_uri": "https://localhost:8080/"
        },
        "outputId": "f11c2afd-da10-44ec-a1db-04f479a42ba1"
      },
      "source": [
        "import joblib\r\n",
        "joblib.dump(x_tokenizer,'x_tokenizer.pkl')\r\n",
        "joblib.dump(y_tokenizer,'y_tokenizer.pkl')"
      ],
      "execution_count": null,
      "outputs": [
        {
          "output_type": "execute_result",
          "data": {
            "text/plain": [
              "['y_tokenizer.pkl']"
            ]
          },
          "metadata": {
            "tags": []
          },
          "execution_count": 37
        }
      ]
    },
    {
      "cell_type": "code",
      "metadata": {
        "id": "ufUDHyH147n3"
      },
      "source": [
        "from keras import backend as K \r\n",
        "K.clear_session() \r\n",
        "latent_dim = 500 "
      ],
      "execution_count": null,
      "outputs": []
    },
    {
      "cell_type": "code",
      "metadata": {
        "id": "nCinTDVP4-En"
      },
      "source": [
        "# Encoder \r\n",
        "encoder_inputs = Input(shape=(max_len_text,)) \r\n",
        "enc_emb = Embedding(x_voc_size, latent_dim,trainable=True)(encoder_inputs)    \r\n",
        "\r\n",
        "\r\n",
        "#LSTM 1 \r\n",
        "encoder_lstm1 = Bidirectional(LSTM(latent_dim,return_sequences=True,return_state=True))\r\n",
        "encoder_output1, state_h1, state_c1 , backward_state_h1, backward_state_c1 = encoder_lstm1(enc_emb)  \r\n",
        "encoder_output_dropout_01 = Dropout(0.3)(encoder_output1)\r\n",
        "\r\n",
        "\r\n",
        "#LSTM 2 \r\n",
        "encoder_lstm2 = Bidirectional(LSTM(latent_dim,return_sequences=True,return_state=True))\r\n",
        "encoder_output2, state_h2, state_c2 , backward_state_h2, backward_state_c2 = encoder_lstm2(encoder_output_dropout_01)  \r\n",
        "encoder_output_dropout_02 = Dropout(0.3)(encoder_output2)\r\n",
        "\r\n",
        "#LSTM b2 \r\n",
        "encoder_lstm3 =Bidirectional(LSTM(latent_dim,return_sequences=True,return_state=True))\r\n",
        "encoder_output, state_h3, state_c3 ,backward_state_h3, backward_state_c3 = encoder_lstm3(encoder_output_dropout_02)  \r\n",
        "encoder_state_h = Concatenate()([state_h3, backward_state_h3])\r\n",
        "encoder_state_c = Concatenate()([state_c3, backward_state_c3])"
      ],
      "execution_count": null,
      "outputs": []
    },
    {
      "cell_type": "code",
      "metadata": {
        "id": "5idnsgxH6BpK"
      },
      "source": [
        "decoder_inputs = Input(shape=(None,)) \r\n",
        "dec_emb_layer = Embedding(y_voc_size, latent_dim,trainable=True) \r\n",
        "dec_emb = dec_emb_layer(decoder_inputs) "
      ],
      "execution_count": null,
      "outputs": []
    },
    {
      "cell_type": "code",
      "metadata": {
        "id": "FchY0C3E7064"
      },
      "source": [
        "decoder_lstm = LSTM(latent_dim*2, return_sequences=True, return_state=True)\r\n",
        "decoder_output, decoder_state_h, decoder_state_c= decoder_lstm(dec_emb, initial_state=[encoder_state_h,encoder_state_c])"
      ],
      "execution_count": null,
      "outputs": []
    },
    {
      "cell_type": "code",
      "metadata": {
        "id": "33xsgimz8kFc"
      },
      "source": [
        "import tensorflow as tf\r\n",
        "import os\r\n",
        "from tensorflow.python.keras.layers import Layer\r\n",
        "from tensorflow.python.keras import backend as K\r\n",
        "\r\n",
        "\r\n",
        "class AttentionLayer(Layer):\r\n",
        "    \"\"\"\r\n",
        "    This class implements Bahdanau attention (https://arxiv.org/pdf/1409.0473.pdf).\r\n",
        "    There are three sets of weights introduced W_a, U_a, and V_a\r\n",
        "     \"\"\"\r\n",
        "\r\n",
        "    def __init__(self, **kwargs):\r\n",
        "        super(AttentionLayer, self).__init__(**kwargs)\r\n",
        "\r\n",
        "    def build(self, input_shape):\r\n",
        "        assert isinstance(input_shape, list)\r\n",
        "        # Create a trainable weight variable for this layer.\r\n",
        "\r\n",
        "        self.W_a = self.add_weight(name='W_a',\r\n",
        "                                   shape=tf.TensorShape((input_shape[0][2], input_shape[0][2])),\r\n",
        "                                   initializer='uniform',\r\n",
        "                                   trainable=True)\r\n",
        "        self.U_a = self.add_weight(name='U_a',\r\n",
        "                                   shape=tf.TensorShape((input_shape[1][2], input_shape[0][2])),\r\n",
        "                                   initializer='uniform',\r\n",
        "                                   trainable=True)\r\n",
        "        self.V_a = self.add_weight(name='V_a',\r\n",
        "                                   shape=tf.TensorShape((input_shape[0][2], 1)),\r\n",
        "                                   initializer='uniform',\r\n",
        "                                   trainable=True)\r\n",
        "\r\n",
        "        super(AttentionLayer, self).build(input_shape)  # Be sure to call this at the end\r\n",
        "\r\n",
        "    def call(self, inputs, verbose=False):\r\n",
        "        \"\"\"\r\n",
        "        inputs: [encoder_output_sequence, decoder_output_sequence]\r\n",
        "        \"\"\"\r\n",
        "        assert type(inputs) == list\r\n",
        "        encoder_out_seq, decoder_out_seq = inputs\r\n",
        "        if verbose:\r\n",
        "            print('encoder_out_seq>', encoder_out_seq.shape)\r\n",
        "            print('decoder_out_seq>', decoder_out_seq.shape)\r\n",
        "\r\n",
        "        def energy_step(inputs, states):\r\n",
        "            \"\"\" Step function for computing energy for a single decoder state \"\"\"\r\n",
        "\r\n",
        "            assert_msg = \"States must be a list. However states {} is of type {}\".format(states, type(states))\r\n",
        "            assert isinstance(states, list) or isinstance(states, tuple), assert_msg\r\n",
        "\r\n",
        "            \"\"\" Some parameters required for shaping tensors\"\"\"\r\n",
        "            en_seq_len, en_hidden = encoder_out_seq.shape[1], encoder_out_seq.shape[2]\r\n",
        "            de_hidden = inputs.shape[-1]\r\n",
        "\r\n",
        "            \"\"\" Computing S.Wa where S=[s0, s1, ..., si]\"\"\"\r\n",
        "            # <= batch_size*en_seq_len, latent_dim\r\n",
        "            reshaped_enc_outputs = K.reshape(encoder_out_seq, (-1, en_hidden))\r\n",
        "            # <= batch_size*en_seq_len, latent_dim\r\n",
        "            W_a_dot_s = K.reshape(K.dot(reshaped_enc_outputs, self.W_a), (-1, en_seq_len, en_hidden))\r\n",
        "            if verbose:\r\n",
        "                print('wa.s>',W_a_dot_s.shape)\r\n",
        "\r\n",
        "            \"\"\" Computing hj.Ua \"\"\"\r\n",
        "            U_a_dot_h = K.expand_dims(K.dot(inputs, self.U_a), 1)  # <= batch_size, 1, latent_dim\r\n",
        "            if verbose:\r\n",
        "                print('Ua.h>',U_a_dot_h.shape)\r\n",
        "\r\n",
        "            \"\"\" tanh(S.Wa + hj.Ua) \"\"\"\r\n",
        "            # <= batch_size*en_seq_len, latent_dim\r\n",
        "            reshaped_Ws_plus_Uh = K.tanh(K.reshape(W_a_dot_s + U_a_dot_h, (-1, en_hidden)))\r\n",
        "            if verbose:\r\n",
        "                print('Ws+Uh>', reshaped_Ws_plus_Uh.shape)\r\n",
        "\r\n",
        "            \"\"\" softmax(va.tanh(S.Wa + hj.Ua)) \"\"\"\r\n",
        "            # <= batch_size, en_seq_len\r\n",
        "            e_i = K.reshape(K.dot(reshaped_Ws_plus_Uh, self.V_a), (-1, en_seq_len))\r\n",
        "            # <= batch_size, en_seq_len\r\n",
        "            e_i = K.softmax(e_i)\r\n",
        "\r\n",
        "            if verbose:\r\n",
        "                print('ei>', e_i.shape)\r\n",
        "\r\n",
        "            return e_i, [e_i]\r\n",
        "\r\n",
        "        def context_step(inputs, states):\r\n",
        "            \"\"\" Step function for computing ci using ei \"\"\"\r\n",
        "            # <= batch_size, hidden_size\r\n",
        "            c_i = K.sum(encoder_out_seq * K.expand_dims(inputs, -1), axis=1)\r\n",
        "            if verbose:\r\n",
        "                print('ci>', c_i.shape)\r\n",
        "            return c_i, [c_i]\r\n",
        "\r\n",
        "        def create_inital_state(inputs, hidden_size):\r\n",
        "            # We are not using initial states, but need to pass something to K.rnn funciton\r\n",
        "            fake_state = K.zeros_like(inputs)  # <= (batch_size, enc_seq_len, latent_dim\r\n",
        "            fake_state = K.sum(fake_state, axis=[1, 2])  # <= (batch_size)\r\n",
        "            fake_state = K.expand_dims(fake_state)  # <= (batch_size, 1)\r\n",
        "            fake_state = K.tile(fake_state, [1, hidden_size])  # <= (batch_size, latent_dim\r\n",
        "            return fake_state\r\n",
        "\r\n",
        "        fake_state_c = create_inital_state(encoder_out_seq, encoder_out_seq.shape[-1])\r\n",
        "        fake_state_e = create_inital_state(encoder_out_seq, encoder_out_seq.shape[1])  # <= (batch_size, enc_seq_len, latent_dim\r\n",
        "\r\n",
        "        \"\"\" Computing energy outputs \"\"\"\r\n",
        "        # e_outputs => (batch_size, de_seq_len, en_seq_len)\r\n",
        "        last_out, e_outputs, _ = K.rnn(\r\n",
        "            energy_step, decoder_out_seq, [fake_state_e],\r\n",
        "        )\r\n",
        "\r\n",
        "        \"\"\" Computing context vectors \"\"\"\r\n",
        "        last_out, c_outputs, _ = K.rnn(\r\n",
        "            context_step, e_outputs, [fake_state_c],\r\n",
        "        )\r\n",
        "\r\n",
        "        return c_outputs, e_outputs\r\n",
        "\r\n",
        "    def compute_output_shape(self, input_shape):\r\n",
        "        \"\"\" Outputs produced by the layer \"\"\"\r\n",
        "        return [\r\n",
        "            tf.TensorShape((input_shape[1][0], input_shape[1][1], input_shape[1][2])),\r\n",
        "            tf.TensorShape((input_shape[1][0], input_shape[1][1], input_shape[0][1]))\r\n",
        "        ]"
      ],
      "execution_count": null,
      "outputs": []
    },
    {
      "cell_type": "code",
      "metadata": {
        "id": "xDRCJ2M88nku",
        "colab": {
          "base_uri": "https://localhost:8080/"
        },
        "outputId": "86b86fc6-167f-4b55-8855-09a572087762"
      },
      "source": [
        "#Attention Layer\r\n",
        "attn_layer = AttentionLayer(name='attention_layer') \r\n",
        "attn_out, attn_states = attn_layer([encoder_output, decoder_output]) \r\n",
        "\r\n",
        "# Concat attention output and decoder LSTM output \r\n",
        "decoder_concat_input = Concatenate(axis=-1, name='concat_layer')([decoder_output, attn_out])\r\n",
        "\r\n",
        "#Dense layer\r\n",
        "decoder_dense = TimeDistributed(Dense(y_voc_size, activation='softmax')) \r\n",
        "decoder_dense_output = decoder_dense(decoder_concat_input) \r\n",
        "\r\n",
        "# Define the model\r\n",
        "model = Model([encoder_inputs, decoder_inputs], decoder_dense_output) \r\n",
        "model.summary()"
      ],
      "execution_count": null,
      "outputs": [
        {
          "output_type": "stream",
          "text": [
            "Model: \"model\"\n",
            "__________________________________________________________________________________________________\n",
            "Layer (type)                    Output Shape         Param #     Connected to                     \n",
            "==================================================================================================\n",
            "input_1 (InputLayer)            [(None, 80)]         0                                            \n",
            "__________________________________________________________________________________________________\n",
            "embedding (Embedding)           (None, 80, 500)      26785500    input_1[0][0]                    \n",
            "__________________________________________________________________________________________________\n",
            "bidirectional (Bidirectional)   [(None, 80, 1000), ( 4004000     embedding[0][0]                  \n",
            "__________________________________________________________________________________________________\n",
            "dropout (Dropout)               (None, 80, 1000)     0           bidirectional[0][0]              \n",
            "__________________________________________________________________________________________________\n",
            "bidirectional_1 (Bidirectional) [(None, 80, 1000), ( 6004000     dropout[0][0]                    \n",
            "__________________________________________________________________________________________________\n",
            "dropout_1 (Dropout)             (None, 80, 1000)     0           bidirectional_1[0][0]            \n",
            "__________________________________________________________________________________________________\n",
            "input_2 (InputLayer)            [(None, None)]       0                                            \n",
            "__________________________________________________________________________________________________\n",
            "bidirectional_2 (Bidirectional) [(None, 80, 1000), ( 6004000     dropout_1[0][0]                  \n",
            "__________________________________________________________________________________________________\n",
            "embedding_1 (Embedding)         (None, None, 500)    11923500    input_2[0][0]                    \n",
            "__________________________________________________________________________________________________\n",
            "concatenate (Concatenate)       (None, 1000)         0           bidirectional_2[0][1]            \n",
            "                                                                 bidirectional_2[0][3]            \n",
            "__________________________________________________________________________________________________\n",
            "concatenate_1 (Concatenate)     (None, 1000)         0           bidirectional_2[0][2]            \n",
            "                                                                 bidirectional_2[0][4]            \n",
            "__________________________________________________________________________________________________\n",
            "lstm_3 (LSTM)                   [(None, None, 1000), 6004000     embedding_1[0][0]                \n",
            "                                                                 concatenate[0][0]                \n",
            "                                                                 concatenate_1[0][0]              \n",
            "__________________________________________________________________________________________________\n",
            "attention_layer (AttentionLayer ((None, None, 1000), 2001000     bidirectional_2[0][0]            \n",
            "                                                                 lstm_3[0][0]                     \n",
            "__________________________________________________________________________________________________\n",
            "concat_layer (Concatenate)      (None, None, 2000)   0           lstm_3[0][0]                     \n",
            "                                                                 attention_layer[0][0]            \n",
            "__________________________________________________________________________________________________\n",
            "time_distributed (TimeDistribut (None, None, 23847)  47717847    concat_layer[0][0]               \n",
            "==================================================================================================\n",
            "Total params: 110,443,847\n",
            "Trainable params: 110,443,847\n",
            "Non-trainable params: 0\n",
            "__________________________________________________________________________________________________\n"
          ],
          "name": "stdout"
        }
      ]
    },
    {
      "cell_type": "code",
      "metadata": {
        "id": "CkcWwI3E8wLZ"
      },
      "source": [
        "model.compile(optimizer='adam', loss='sparse_categorical_crossentropy')"
      ],
      "execution_count": null,
      "outputs": []
    },
    {
      "cell_type": "code",
      "metadata": {
        "id": "e5hEftf79KyP"
      },
      "source": [
        "es = EarlyStopping(monitor='val_loss', mode='min', verbose=1, patience=5)"
      ],
      "execution_count": null,
      "outputs": []
    },
    {
      "cell_type": "code",
      "metadata": {
        "id": "qtOjY2vi9MZG",
        "colab": {
          "base_uri": "https://localhost:8080/"
        },
        "outputId": "396b37dd-ca84-4052-b3ed-dd11f89bd072"
      },
      "source": [
        "\r\n",
        "x_tr\r\n",
        "y_tr[:5,:-1]\r\n",
        "y_tr.reshape(y_tr.shape[0],y_tr.shape[1], 1)[:,1:]"
      ],
      "execution_count": null,
      "outputs": [
        {
          "output_type": "execute_result",
          "data": {
            "text/plain": [
              "array([[[  23],\n",
              "        [ 170],\n",
              "        [   2],\n",
              "        ...,\n",
              "        [   0],\n",
              "        [   0],\n",
              "        [   0]],\n",
              "\n",
              "       [[2262],\n",
              "        [1669],\n",
              "        [   2],\n",
              "        ...,\n",
              "        [   0],\n",
              "        [   0],\n",
              "        [   0]],\n",
              "\n",
              "       [[  11],\n",
              "        [   4],\n",
              "        [ 255],\n",
              "        ...,\n",
              "        [  19],\n",
              "        [   3],\n",
              "        [   2]],\n",
              "\n",
              "       ...,\n",
              "\n",
              "       [[2887],\n",
              "        [ 158],\n",
              "        [   2],\n",
              "        ...,\n",
              "        [   0],\n",
              "        [   0],\n",
              "        [   0]],\n",
              "\n",
              "       [[  14],\n",
              "        [5297],\n",
              "        [ 234],\n",
              "        ...,\n",
              "        [   2],\n",
              "        [   0],\n",
              "        [   0]],\n",
              "\n",
              "       [[4008],\n",
              "        [2288],\n",
              "        [  20],\n",
              "        ...,\n",
              "        [   0],\n",
              "        [   0],\n",
              "        [   0]]], dtype=int32)"
            ]
          },
          "metadata": {
            "tags": []
          },
          "execution_count": 46
        }
      ]
    },
    {
      "cell_type": "code",
      "metadata": {
        "id": "LcRcS4dw9ODS",
        "colab": {
          "base_uri": "https://localhost:8080/"
        },
        "outputId": "99fbbf09-058d-49f3-e693-32c8fe584aac"
      },
      "source": [
        "history=model.fit([x_tr,y_tr[:,:-1]], y_tr.reshape(y_tr.shape[0],y_tr.shape[1], 1)[:,1:] ,epochs=200,callbacks=[es],batch_size=512, validation_data=([x_val,y_val[:,:-1]], y_val.reshape(y_val.shape[0],y_val.shape[1], 1)[:,1:]))"
      ],
      "execution_count": null,
      "outputs": [
        {
          "output_type": "stream",
          "text": [
            "Epoch 1/200\n",
            "443/443 [==============================] - 1361s 3s/step - loss: 3.1314 - val_loss: 2.2654\n",
            "Epoch 2/200\n",
            "443/443 [==============================] - 1368s 3s/step - loss: 2.2480 - val_loss: 2.0985\n",
            "Epoch 3/200\n",
            "443/443 [==============================] - 1370s 3s/step - loss: 2.0498 - val_loss: 1.9988\n",
            "Epoch 4/200\n",
            "443/443 [==============================] - 1346s 3s/step - loss: 1.8954 - val_loss: 1.9332\n",
            "Epoch 5/200\n",
            "443/443 [==============================] - 1374s 3s/step - loss: 1.7670 - val_loss: 1.8944\n",
            "Epoch 6/200\n",
            "443/443 [==============================] - 1376s 3s/step - loss: 1.6496 - val_loss: 1.8735\n",
            "Epoch 7/200\n",
            "443/443 [==============================] - 1362s 3s/step - loss: 1.5459 - val_loss: 1.8649\n",
            "Epoch 8/200\n",
            "443/443 [==============================] - 1340s 3s/step - loss: 1.4504 - val_loss: 1.8662\n",
            "Epoch 9/200\n",
            "443/443 [==============================] - 1342s 3s/step - loss: 1.3616 - val_loss: 1.8796\n",
            "Epoch 10/200\n",
            "443/443 [==============================] - 1342s 3s/step - loss: 1.2762 - val_loss: 1.8975\n",
            "Epoch 11/200\n",
            "443/443 [==============================] - 1340s 3s/step - loss: 1.1897 - val_loss: 1.9260\n",
            "Epoch 12/200\n",
            "443/443 [==============================] - 1341s 3s/step - loss: 1.1084 - val_loss: 1.9578\n",
            "Epoch 00012: early stopping\n"
          ],
          "name": "stdout"
        }
      ]
    },
    {
      "cell_type": "code",
      "metadata": {
        "id": "bbpfyNdv9Tpf",
        "colab": {
          "base_uri": "https://localhost:8080/",
          "height": 265
        },
        "outputId": "76641894-ec9c-494c-f8d1-3e0fbb1ef436"
      },
      "source": [
        "from matplotlib import pyplot \r\n",
        "pyplot.plot(history.history['loss'], label='train') \r\n",
        "pyplot.plot(history.history['val_loss'], label='test') \r\n",
        "pyplot.legend() \r\n",
        "pyplot.show()"
      ],
      "execution_count": null,
      "outputs": [
        {
          "output_type": "display_data",
          "data": {
            "image/png": "[encoded data removed]",
            "text/plain": [
              "<Figure size 432x288 with 1 Axes>"
            ]
          },
          "metadata": {
            "tags": [],
            "needs_background": "light"
          }
        }
      ]
    },
    {
      "cell_type": "code",
      "metadata": {
        "id": "fFff7zPI_HvS"
      },
      "source": [
        "reverse_target_word_index=y_tokenizer.index_word \r\n",
        "reverse_source_word_index=x_tokenizer.index_word \r\n",
        "target_word_index=y_tokenizer.word_index"
      ],
      "execution_count": null,
      "outputs": []
    },
    {
      "cell_type": "code",
      "metadata": {
        "id": "xIaYC3Jj_OHX"
      },
      "source": [
        "# Encoder Inference Model\r\n",
        "encoder_model_inference = Model(encoder_inputs, [encoder_output, encoder_state_h,encoder_state_c])\r\n",
        "\r\n",
        "# Decoder Inference\r\n",
        "# Below tensors will hold the states of the previous time step\r\n",
        "decoder_state_h = Input(shape=(latent_dim*2, ))\r\n",
        "decoder_state_c = Input(shape=(latent_dim*2, ))\r\n",
        "decoder_intermittent_state_input = Input(shape=(max_len_text, latent_dim*2))\r\n",
        "\r\n",
        "\r\n",
        "# Get Embeddings of Decoder Sequence\r\n",
        "decoder_embedding_inference = dec_emb_layer(decoder_inputs)\r\n",
        "\r\n",
        "# Predict Next Word in Sequence, Set Initial State to State from Previous Time Step\r\n",
        "decoder_output_inference, decoder_state_inference_h,decoder_state_inference_c = decoder_lstm(decoder_embedding_inference, initial_state=[decoder_state_h,decoder_state_c])\r\n",
        "\r\n",
        "# Attention Inference\r\n",
        "attention_layer = AttentionLayer()\r\n",
        "attention_out_inference, attention_state_inference = attention_layer([decoder_intermittent_state_input, decoder_output_inference])\r\n",
        "decoder_inference_concat = Concatenate(axis=-1)([decoder_output_inference, attention_out_inference])\r\n",
        "\r\n",
        "# Dense Softmax Layer to Generate Prob. Dist. Over Target Vocabulary\r\n",
        "decoder_output_inference = decoder_dense(decoder_inference_concat)\r\n",
        "\r\n",
        "# Final Decoder Model\r\n",
        "decoder_model_inference = Model([decoder_inputs, decoder_intermittent_state_input, decoder_state_h,decoder_state_c], \r\n",
        "                                [decoder_output_inference, decoder_state_inference_h,decoder_state_inference_c])"
      ],
      "execution_count": null,
      "outputs": []
    },
    {
      "cell_type": "code",
      "metadata": {
        "id": "XH9iMYQDD7Gl"
      },
      "source": [
        "encoder_model_inference.save('enc.h5')\r\n",
        "decoder_model_inference.save('dec.h5')"
      ],
      "execution_count": null,
      "outputs": []
    },
    {
      "cell_type": "code",
      "metadata": {
        "id": "XPuP7a6DFxpP",
        "colab": {
          "base_uri": "https://localhost:8080/"
        },
        "outputId": "2519397f-658c-405b-c626-980156c40aae"
      },
      "source": [
        "encoderSaved =  load_model('/content/enc.h5')\r\n",
        "decoderSaved = load_model('/content/dec.h5', custom_objects={'AttentionLayer': AttentionLayer})"
      ],
      "execution_count": null,
      "outputs": [
        {
          "output_type": "stream",
          "text": [
            "WARNING:tensorflow:No training configuration found in the save file, so the model was *not* compiled. Compile it manually.\n",
            "WARNING:tensorflow:No training configuration found in the save file, so the model was *not* compiled. Compile it manually.\n"
          ],
          "name": "stdout"
        }
      ]
    },
    {
      "cell_type": "code",
      "metadata": {
        "id": "qbkkckigC_ph"
      },
      "source": [
        "def decode_sequence(input_seq):\r\n",
        "    # Encode the input as state vectors.\r\n",
        "    e_out, e_state_h , e_state_c = encoderSaved.predict(input_seq)\r\n",
        "    # print('input_seq: {}, e_out: {} '.format(input_seq,e_out))\r\n",
        "    # Generate empty target sequence of length 1.\r\n",
        "    target_seq = np.zeros((1,1))\r\n",
        "\r\n",
        "    # Chose the 'start' word as the first word of the target sequence\r\n",
        "    target_seq[0, 0] = target_word_index['start']\r\n",
        "\r\n",
        "    stop_condition = False\r\n",
        "    decoded_sentence = ''\r\n",
        "    while not stop_condition:\r\n",
        "        output_tokens, decoder_state_h,decoder_state_c = decoderSaved.predict([target_seq] + [e_out, e_state_h, e_state_c])\r\n",
        "\r\n",
        "        # Sample a token\r\n",
        "        sampled_token_index = np.argmax(output_tokens[0, -1, :])\r\n",
        "        sampled_token = reverse_target_word_index[sampled_token_index]\r\n",
        "        # print(\"sampled_token:\",sampled_token)\r\n",
        "        if(sampled_token!='end'):\r\n",
        "            decoded_sentence += ' '+sampled_token\r\n",
        "\r\n",
        "            # Exit condition: either hit max length or find stop word.\r\n",
        "        if (sampled_token == 'end' or len(decoded_sentence.split()) >= (max_len_summary-1)):\r\n",
        "                stop_condition = True\r\n",
        "\r\n",
        "        # Update the target sequence (of length 1).\r\n",
        "        target_seq = np.zeros((1,1))\r\n",
        "        target_seq[0, 0] = sampled_token_index\r\n",
        "        # stop_condition = True\r\n",
        "        # Update internal states\r\n",
        "        e_state_h = decoder_state_h\r\n",
        "        e_state_c = decoder_state_c\r\n",
        "\r\n",
        "    return decoded_sentence"
      ],
      "execution_count": null,
      "outputs": []
    },
    {
      "cell_type": "code",
      "metadata": {
        "id": "1r8feo0FDgRf"
      },
      "source": [
        "def seq2summary(input_seq):\r\n",
        "    newString=''\r\n",
        "    for i in input_seq:\r\n",
        "      if((i!=0 and i!=target_word_index['start']) and i!=target_word_index['end']):\r\n",
        "        newString=newString+reverse_target_word_index[i]+' '\r\n",
        "    return newString\r\n",
        "\r\n",
        "def seq2text(input_seq):\r\n",
        "    newString=''\r\n",
        "    for i in input_seq:\r\n",
        "      if(i!=0):\r\n",
        "        newString=newString+reverse_source_word_index[i]+' '\r\n",
        "    return newString"
      ],
      "execution_count": null,
      "outputs": []
    },
    {
      "cell_type": "code",
      "metadata": {
        "id": "d3Jrl8mFDutX",
        "colab": {
          "base_uri": "https://localhost:8080/"
        },
        "outputId": "de7862ee-daba-4995-fbf1-ab0f57612f80"
      },
      "source": [
        "columns=['original','predicted']\r\n",
        "lst=[]\r\n",
        "for i in range(0,20):\r\n",
        "  print(\"Review:\",seq2text(x_val[i]))\r\n",
        "  original = seq2summary(y_val[i])\r\n",
        "  predicted= decode_sequence(x_val[i].reshape(1,max_len_text))\r\n",
        "  print(\"Original summary:\",original)\r\n",
        "  print(\"Predicted summary:\",predicted)\r\n",
        "  lst.append([original,predicted])\r\n",
        "  print(\"\\n\")"
      ],
      "execution_count": null,
      "outputs": [
        {
          "output_type": "stream",
          "text": [
            "Review: coffee great whole family enjoys way grandparents kids kitchen smells heavenly perk strong acidity right \n",
            "Original summary: wonderful chocolaty aroma \n",
            "Predicted summary:  great coffee\n",
            "\n",
            "\n",
            "Review: purchased lavender put buckwheat hull pillow made purchased quite bit loose lavender france \n",
            "Original summary: ahhhh \n",
            "Predicted summary:  it is what it is\n",
            "\n",
            "\n",
            "Review: using icecream tase great funny taste alchol tast extracts vanilla flavorings \n",
            "Original summary: great tast and fast service \n",
            "Predicted summary:  not for me\n",
            "\n",
            "\n",
            "Review: things dont damn thing cat bad breath sure love eating also dont suggest giving cat box says something ridiculous like per serving want feed cat whole bag two weeks timeframe buy \n",
            "Original summary: my cat likes them \n",
            "Predicted summary:  my cat will not eat them\n",
            "\n",
            "\n",
            "Review: wife love cakes betty crocker stores thanks amazon stock good price \n",
            "Original summary: not in stores \n",
            "Predicted summary:  great product\n",
            "\n",
            "\n",
            "Review: nice taste mild nice way start morning love large box inexpensive much easier buy large box getting small amount store \n",
            "Original summary: nice breakfast blend \n",
            "Predicted summary:  great flavor\n",
            "\n",
            "\n",
            "Review: dog sensitive stomach \n",
            "Original summary: helps my dog with sensitive stomach \n",
            "Predicted summary:  great food\n",
            "\n",
            "\n",
            "Review: frequently cereal breakfast tried many varieties multi grain cheerios \n",
            "Original summary: favorite cereal of all time \n",
            "Predicted summary:  good cereal\n",
            "\n",
            "\n",
            "Review: soup surprisingly good mix convenient easy make affordable reason give stars seasoning especially salt tastes good \n",
            "Original summary: surprisingly good \n",
            "Predicted summary:  good soup\n",
            "\n",
            "\n",
            "Review: read great healthy tasty alternative olive oil tastes buttery oils maintaining healthy balance unsaturated fats great tasting healthy \n",
            "Original summary: deliciousness \n",
            "Predicted summary:  great taste\n",
            "\n",
            "\n",
            "Review: cats really like food coats shiny glossy soft healthy complaints feeding food year continue thrive amazon makes ordering delivery food snap price reasonable high quality food turned friends onto amazon pet food ordering experience come think \n",
            "Original summary: my cats are happy and healthy \n",
            "Predicted summary:  my cat love it\n",
            "\n",
            "\n",
            "Review: tip get immersion blender place one heaping teaspoon ghirardelli choc mocha powder glass add cup milk fat free full fat \n",
            "Original summary: cold choc mocha milk too \n",
            "Predicted summary:  great stuff\n",
            "\n",
            "\n",
            "Review: first nice \n",
            "Original summary: our pups love these treats \n",
            "Predicted summary:  great product\n",
            "\n",
            "\n",
            "Review: always white truffle fan \n",
            "Original summary: super yummy \n",
            "Predicted summary:  best truffles ever\n",
            "\n",
            "\n",
            "Review: arrived timely manner good last one order soon \n",
            "Original summary: mary crackers herb \n",
            "Predicted summary:  great product\n",
            "\n",
            "\n",
            "Review: short making homemade soup \n",
            "Original summary: right up there with homemade \n",
            "Predicted summary:  great soup\n",
            "\n",
            "\n",
            "Review: pamela chocolate cake frosting mixes yummy hard believe gluten free everyone shared loved \n",
            "Original summary: wonderful gluten free mixes \n",
            "Predicted summary:  best chocolate cake ever\n",
            "\n",
            "\n",
            "Review: sixteen year old border collie loves food used dry dog food started mixing dry eats heartily \n",
            "Original summary: loves it \n",
            "Predicted summary:  great food\n",
            "\n",
            "\n",
            "Review: normally purchase kind food \n",
            "Original summary: wonderful semi junk food \n",
            "Predicted summary:  great product\n",
            "\n",
            "\n",
            "Review: first tried fruit tea strawberry smoothie bookstore coffee shop loved sold ounce bottle knew could get better deal amazon got bottles pretty good deal compared coffee shop anyhow \n",
            "Original summary: omg yummy \n",
            "Predicted summary:  great taste and convenient\n",
            "\n",
            "\n"
          ],
          "name": "stdout"
        }
      ]
    },
    {
      "cell_type": "code",
      "metadata": {
        "id": "fuBMuHDxbLv1"
      },
      "source": [
        "from nltk.translate.bleu_score import sentence_bleu"
      ],
      "execution_count": null,
      "outputs": []
    },
    {
      "cell_type": "code",
      "metadata": {
        "id": "HGKBEdpYMGEV"
      },
      "source": [
        "newdf = pd.DataFrame(lst, columns=columns)\r\n",
        "def bleu_scoring(row):\r\n",
        "\r\n",
        "  reference = row['original']\r\n",
        "  candidate = row['predicted']\r\n",
        "\r\n",
        "  reference = [str(reference).split()]\r\n",
        "  candidate = str(candidate).split()\r\n",
        "  score = sentence_bleu(reference, candidate, weights=(1, 0, 0, 0))\r\n",
        "\r\n",
        "  return score"
      ],
      "execution_count": null,
      "outputs": []
    },
    {
      "cell_type": "code",
      "metadata": {
        "id": "IVXknSjg2UCo"
      },
      "source": [
        "newdf['bleu']= newdf.apply(lambda row: bleu_scoring(row), axis=1)"
      ],
      "execution_count": null,
      "outputs": []
    },
    {
      "cell_type": "code",
      "metadata": {
        "colab": {
          "base_uri": "https://localhost:8080/"
        },
        "id": "jwd7JBRebES2",
        "outputId": "351cba57-e64b-4d75-ee59-8c3f3c5e4f93"
      },
      "source": [
        "newdf['bleu'].mean()"
      ],
      "execution_count": null,
      "outputs": [
        {
          "output_type": "execute_result",
          "data": {
            "text/plain": [
              "0.1066335876724248"
            ]
          },
          "metadata": {
            "tags": []
          },
          "execution_count": 72
        }
      ]
    },
    {
      "cell_type": "code",
      "metadata": {
        "id": "g4OY9NMYlehg"
      },
      "source": [
        ""
      ],
      "execution_count": null,
      "outputs": []
    }
  ]
}